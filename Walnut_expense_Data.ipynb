{
 "cells": [
  {
   "cell_type": "code",
   "execution_count": 1,
   "metadata": {},
   "outputs": [
    {
     "name": "stderr",
     "output_type": "stream",
     "text": [
      "C:\\Users\\AISWARRIYA\\Anaconda3\\lib\\site-packages\\sklearn\\cross_validation.py:41: DeprecationWarning: This module was deprecated in version 0.18 in favor of the model_selection module into which all the refactored classes and functions are moved. Also note that the interface of the new CV iterators are different from that of this module. This module will be removed in 0.20.\n",
      "  \"This module will be removed in 0.20.\", DeprecationWarning)\n"
     ]
    }
   ],
   "source": [
    "import numpy as np\n",
    "import pandas as pd\n",
    "from datetime import datetime\n",
    "from datetime import timedelta\n",
    "from dateutil.parser import parse\n",
    "import time\n",
    "from sklearn.cross_validation import train_test_split"
   ]
  },
  {
   "cell_type": "code",
   "execution_count": 2,
   "metadata": {},
   "outputs": [
    {
     "name": "stdout",
     "output_type": "stream",
     "text": [
      "Requirement already satisfied: xgboost in c:\\users\\sushiil\\anaconda3\\lib\\site-packages (0.81)\n",
      "Requirement already satisfied: scipy in c:\\users\\sushiil\\anaconda3\\lib\\site-packages (from xgboost) (1.0.0)\n",
      "Requirement already satisfied: numpy in c:\\users\\sushiil\\anaconda3\\lib\\site-packages (from xgboost) (1.14.0)\n"
     ]
    },
    {
     "name": "stderr",
     "output_type": "stream",
     "text": [
      "You are using pip version 18.0, however version 18.1 is available.\n",
      "You should consider upgrading via the 'python -m pip install --upgrade pip' command.\n"
     ]
    }
   ],
   "source": [
    "import sys\n",
    "!{sys.executable} -m pip install xgboost"
   ]
  },
  {
   "cell_type": "code",
   "execution_count": 3,
   "metadata": {},
   "outputs": [],
   "source": [
    "import xgboost as xgb"
   ]
  },
  {
   "cell_type": "code",
   "execution_count": 4,
   "metadata": {},
   "outputs": [
    {
     "data": {
      "text/html": [
       "<div>\n",
       "<style scoped>\n",
       "    .dataframe tbody tr th:only-of-type {\n",
       "        vertical-align: middle;\n",
       "    }\n",
       "\n",
       "    .dataframe tbody tr th {\n",
       "        vertical-align: top;\n",
       "    }\n",
       "\n",
       "    .dataframe thead th {\n",
       "        text-align: right;\n",
       "    }\n",
       "</style>\n",
       "<table border=\"1\" class=\"dataframe\">\n",
       "  <thead>\n",
       "    <tr style=\"text-align: right;\">\n",
       "      <th></th>\n",
       "      <th>DATE</th>\n",
       "      <th>TIME</th>\n",
       "      <th>PLACE</th>\n",
       "      <th>AMOUNT</th>\n",
       "      <th>ACCOUNT</th>\n",
       "      <th>EXPENSE</th>\n",
       "      <th>CATEGORY</th>\n",
       "      <th>TAGS</th>\n",
       "      <th>NOTE</th>\n",
       "    </tr>\n",
       "  </thead>\n",
       "  <tbody>\n",
       "    <tr>\n",
       "      <th>0</th>\n",
       "      <td>01/12/2018</td>\n",
       "      <td>1:00 PM</td>\n",
       "      <td>WESTSIDE</td>\n",
       "      <td>1400.0</td>\n",
       "      <td>CitiBank credit 6328</td>\n",
       "      <td>Yes</td>\n",
       "      <td>SHOPPING</td>\n",
       "      <td>NaN</td>\n",
       "      <td>NaN</td>\n",
       "    </tr>\n",
       "    <tr>\n",
       "      <th>1</th>\n",
       "      <td>01/12/2018</td>\n",
       "      <td>1:26 PM</td>\n",
       "      <td>VIMAL SILKS</td>\n",
       "      <td>890.0</td>\n",
       "      <td>CitiBank credit 6328</td>\n",
       "      <td>Yes</td>\n",
       "      <td>SHOPPING</td>\n",
       "      <td>NaN</td>\n",
       "      <td>NaN</td>\n",
       "    </tr>\n",
       "    <tr>\n",
       "      <th>2</th>\n",
       "      <td>01/12/2018</td>\n",
       "      <td>1:44 PM</td>\n",
       "      <td>PATANJALI AYURVEDIC &amp; ORGANIC STORE</td>\n",
       "      <td>487.0</td>\n",
       "      <td>CitiBank credit 6328</td>\n",
       "      <td>Yes</td>\n",
       "      <td>SHOPPING</td>\n",
       "      <td>NaN</td>\n",
       "      <td>NaN</td>\n",
       "    </tr>\n",
       "    <tr>\n",
       "      <th>3</th>\n",
       "      <td>01/12/2018</td>\n",
       "      <td>1:52 PM</td>\n",
       "      <td>PATANJALI AYURVEDIC &amp; ORGANIC STORE</td>\n",
       "      <td>140.0</td>\n",
       "      <td>CitiBank credit 6328</td>\n",
       "      <td>Yes</td>\n",
       "      <td>SHOPPING</td>\n",
       "      <td>NaN</td>\n",
       "      <td>NaN</td>\n",
       "    </tr>\n",
       "    <tr>\n",
       "      <th>4</th>\n",
       "      <td>01/12/2018</td>\n",
       "      <td>1:57 PM</td>\n",
       "      <td>PATANJALI AYURVEDIC &amp; ORGANIC STORE</td>\n",
       "      <td>170.0</td>\n",
       "      <td>CitiBank credit 6328</td>\n",
       "      <td>Yes</td>\n",
       "      <td>SHOPPING</td>\n",
       "      <td>NaN</td>\n",
       "      <td>NaN</td>\n",
       "    </tr>\n",
       "  </tbody>\n",
       "</table>\n",
       "</div>"
      ],
      "text/plain": [
       "         DATE     TIME                                PLACE  AMOUNT  \\\n",
       "0  01/12/2018  1:00 PM                             WESTSIDE  1400.0   \n",
       "1  01/12/2018  1:26 PM                          VIMAL SILKS   890.0   \n",
       "2  01/12/2018  1:44 PM  PATANJALI AYURVEDIC & ORGANIC STORE   487.0   \n",
       "3  01/12/2018  1:52 PM  PATANJALI AYURVEDIC & ORGANIC STORE   140.0   \n",
       "4  01/12/2018  1:57 PM  PATANJALI AYURVEDIC & ORGANIC STORE   170.0   \n",
       "\n",
       "                ACCOUNT EXPENSE  CATEGORY TAGS NOTE  \n",
       "0  CitiBank credit 6328     Yes  SHOPPING  NaN  NaN  \n",
       "1  CitiBank credit 6328     Yes  SHOPPING  NaN  NaN  \n",
       "2  CitiBank credit 6328     Yes  SHOPPING  NaN  NaN  \n",
       "3  CitiBank credit 6328     Yes  SHOPPING  NaN  NaN  \n",
       "4  CitiBank credit 6328     Yes  SHOPPING  NaN  NaN  "
      ]
     },
     "execution_count": 4,
     "metadata": {},
     "output_type": "execute_result"
    }
   ],
   "source": [
    "dec_org=pd.read_csv(\"walnut_expense_report_01-12-2018_to_31-12-2018.csv\", thousands=',')\n",
    "dec_org.head()"
   ]
  },
  {
   "cell_type": "code",
   "execution_count": 5,
   "metadata": {},
   "outputs": [
    {
     "data": {
      "text/plain": [
       "Index(['DATE', 'TIME', 'PLACE', 'AMOUNT', 'ACCOUNT', 'EXPENSE', 'CATEGORY',\n",
       "       'TAGS', 'NOTE'],\n",
       "      dtype='object')"
      ]
     },
     "execution_count": 5,
     "metadata": {},
     "output_type": "execute_result"
    }
   ],
   "source": [
    "dec_org.columns"
   ]
  },
  {
   "cell_type": "code",
   "execution_count": 6,
   "metadata": {},
   "outputs": [
    {
     "name": "stdout",
     "output_type": "stream",
     "text": [
      "<class 'pandas.core.frame.DataFrame'>\n",
      "RangeIndex: 53 entries, 0 to 52\n",
      "Data columns (total 9 columns):\n",
      "DATE        53 non-null object\n",
      "TIME        53 non-null object\n",
      "PLACE       53 non-null object\n",
      "AMOUNT      53 non-null float64\n",
      "ACCOUNT     53 non-null object\n",
      "EXPENSE     53 non-null object\n",
      "CATEGORY    52 non-null object\n",
      "TAGS        20 non-null object\n",
      "NOTE        22 non-null object\n",
      "dtypes: float64(1), object(8)\n",
      "memory usage: 3.8+ KB\n"
     ]
    }
   ],
   "source": [
    "dec_org.info()"
   ]
  },
  {
   "cell_type": "code",
   "execution_count": 7,
   "metadata": {},
   "outputs": [
    {
     "data": {
      "text/plain": [
       "DATE         0\n",
       "TIME         0\n",
       "PLACE        0\n",
       "AMOUNT       0\n",
       "ACCOUNT      0\n",
       "EXPENSE      0\n",
       "CATEGORY     1\n",
       "TAGS        33\n",
       "NOTE        31\n",
       "dtype: int64"
      ]
     },
     "execution_count": 7,
     "metadata": {},
     "output_type": "execute_result"
    }
   ],
   "source": [
    "dec_org.isnull().sum()"
   ]
  },
  {
   "cell_type": "code",
   "execution_count": 8,
   "metadata": {},
   "outputs": [
    {
     "data": {
      "text/html": [
       "<div>\n",
       "<style scoped>\n",
       "    .dataframe tbody tr th:only-of-type {\n",
       "        vertical-align: middle;\n",
       "    }\n",
       "\n",
       "    .dataframe tbody tr th {\n",
       "        vertical-align: top;\n",
       "    }\n",
       "\n",
       "    .dataframe thead th {\n",
       "        text-align: right;\n",
       "    }\n",
       "</style>\n",
       "<table border=\"1\" class=\"dataframe\">\n",
       "  <thead>\n",
       "    <tr style=\"text-align: right;\">\n",
       "      <th></th>\n",
       "      <th>DATE</th>\n",
       "      <th>PLACE</th>\n",
       "      <th>AMOUNT</th>\n",
       "      <th>ACCOUNT</th>\n",
       "      <th>CATEGORY</th>\n",
       "    </tr>\n",
       "  </thead>\n",
       "  <tbody>\n",
       "    <tr>\n",
       "      <th>0</th>\n",
       "      <td>01/12/2018</td>\n",
       "      <td>WESTSIDE</td>\n",
       "      <td>1400.0</td>\n",
       "      <td>CitiBank credit 6328</td>\n",
       "      <td>SHOPPING</td>\n",
       "    </tr>\n",
       "    <tr>\n",
       "      <th>1</th>\n",
       "      <td>01/12/2018</td>\n",
       "      <td>VIMAL SILKS</td>\n",
       "      <td>890.0</td>\n",
       "      <td>CitiBank credit 6328</td>\n",
       "      <td>SHOPPING</td>\n",
       "    </tr>\n",
       "  </tbody>\n",
       "</table>\n",
       "</div>"
      ],
      "text/plain": [
       "         DATE        PLACE  AMOUNT               ACCOUNT  CATEGORY\n",
       "0  01/12/2018     WESTSIDE  1400.0  CitiBank credit 6328  SHOPPING\n",
       "1  01/12/2018  VIMAL SILKS   890.0  CitiBank credit 6328  SHOPPING"
      ]
     },
     "execution_count": 8,
     "metadata": {},
     "output_type": "execute_result"
    }
   ],
   "source": [
    "X_dec=dec_org.drop(columns=['TIME','EXPENSE','TAGS','NOTE'],axis=1)\n",
    "X_dec.head(2)"
   ]
  },
  {
   "cell_type": "code",
   "execution_count": 9,
   "metadata": {},
   "outputs": [
    {
     "data": {
      "text/plain": [
       "0    1\n",
       "1    1\n",
       "2    1\n",
       "3    1\n",
       "4    1\n",
       "5    1\n",
       "6    0\n",
       "7    1\n",
       "8    0\n",
       "9    1\n",
       "Name: outcome, dtype: int64"
      ]
     },
     "execution_count": 9,
     "metadata": {},
     "output_type": "execute_result"
    }
   ],
   "source": [
    "dec_org['outcome'] = dec_org.EXPENSE.map({'No':0, 'Yes':1})\n",
    "dec_org['outcome'].head(10)"
   ]
  },
  {
   "cell_type": "code",
   "execution_count": 10,
   "metadata": {},
   "outputs": [
    {
     "data": {
      "text/plain": [
       "48    1\n",
       "49    1\n",
       "50    1\n",
       "51    0\n",
       "52    1\n",
       "Name: outcome, dtype: int64"
      ]
     },
     "execution_count": 10,
     "metadata": {},
     "output_type": "execute_result"
    }
   ],
   "source": [
    "y_dec=dec_org['outcome']\n",
    "y_dec.tail()"
   ]
  },
  {
   "cell_type": "code",
   "execution_count": 11,
   "metadata": {},
   "outputs": [
    {
     "data": {
      "text/plain": [
       "0   2018-12-01 00:00:00+00:00\n",
       "1   2018-12-01 00:00:00+00:00\n",
       "2   2018-12-01 00:00:00+00:00\n",
       "3   2018-12-01 00:00:00+00:00\n",
       "4   2018-12-01 00:00:00+00:00\n",
       "5   2018-12-01 00:00:00+00:00\n",
       "6   2018-12-03 00:00:00+00:00\n",
       "7   2018-12-03 00:00:00+00:00\n",
       "8   2018-12-05 00:00:00+00:00\n",
       "9   2018-12-05 00:00:00+00:00\n",
       "Name: DATE1, dtype: datetime64[ns, UTC]"
      ]
     },
     "execution_count": 11,
     "metadata": {},
     "output_type": "execute_result"
    }
   ],
   "source": [
    "X_dec['DATE1'] = pd.to_datetime(X_dec['DATE'], format='%d/%m/%Y',utc=True)\n",
    "X_dec['DATE1'].head(10)"
   ]
  },
  {
   "cell_type": "code",
   "execution_count": 12,
   "metadata": {},
   "outputs": [
    {
     "data": {
      "text/html": [
       "<div>\n",
       "<style scoped>\n",
       "    .dataframe tbody tr th:only-of-type {\n",
       "        vertical-align: middle;\n",
       "    }\n",
       "\n",
       "    .dataframe tbody tr th {\n",
       "        vertical-align: top;\n",
       "    }\n",
       "\n",
       "    .dataframe thead th {\n",
       "        text-align: right;\n",
       "    }\n",
       "</style>\n",
       "<table border=\"1\" class=\"dataframe\">\n",
       "  <thead>\n",
       "    <tr style=\"text-align: right;\">\n",
       "      <th></th>\n",
       "      <th>DATE</th>\n",
       "      <th>PLACE</th>\n",
       "      <th>AMOUNT</th>\n",
       "      <th>ACCOUNT</th>\n",
       "      <th>CATEGORY</th>\n",
       "      <th>DATE1</th>\n",
       "    </tr>\n",
       "  </thead>\n",
       "  <tbody>\n",
       "    <tr>\n",
       "      <th>0</th>\n",
       "      <td>01/12/2018</td>\n",
       "      <td>WESTSIDE</td>\n",
       "      <td>1400.0</td>\n",
       "      <td>CitiBank credit 6328</td>\n",
       "      <td>SHOPPING</td>\n",
       "      <td>2018-12-01 00:00:00+00:00</td>\n",
       "    </tr>\n",
       "    <tr>\n",
       "      <th>1</th>\n",
       "      <td>01/12/2018</td>\n",
       "      <td>VIMAL SILKS</td>\n",
       "      <td>890.0</td>\n",
       "      <td>CitiBank credit 6328</td>\n",
       "      <td>SHOPPING</td>\n",
       "      <td>2018-12-01 00:00:00+00:00</td>\n",
       "    </tr>\n",
       "    <tr>\n",
       "      <th>2</th>\n",
       "      <td>01/12/2018</td>\n",
       "      <td>PATANJALI AYURVEDIC &amp; ORGANIC STORE</td>\n",
       "      <td>487.0</td>\n",
       "      <td>CitiBank credit 6328</td>\n",
       "      <td>SHOPPING</td>\n",
       "      <td>2018-12-01 00:00:00+00:00</td>\n",
       "    </tr>\n",
       "    <tr>\n",
       "      <th>3</th>\n",
       "      <td>01/12/2018</td>\n",
       "      <td>PATANJALI AYURVEDIC &amp; ORGANIC STORE</td>\n",
       "      <td>140.0</td>\n",
       "      <td>CitiBank credit 6328</td>\n",
       "      <td>SHOPPING</td>\n",
       "      <td>2018-12-01 00:00:00+00:00</td>\n",
       "    </tr>\n",
       "    <tr>\n",
       "      <th>4</th>\n",
       "      <td>01/12/2018</td>\n",
       "      <td>PATANJALI AYURVEDIC &amp; ORGANIC STORE</td>\n",
       "      <td>170.0</td>\n",
       "      <td>CitiBank credit 6328</td>\n",
       "      <td>SHOPPING</td>\n",
       "      <td>2018-12-01 00:00:00+00:00</td>\n",
       "    </tr>\n",
       "  </tbody>\n",
       "</table>\n",
       "</div>"
      ],
      "text/plain": [
       "         DATE                                PLACE  AMOUNT  \\\n",
       "0  01/12/2018                             WESTSIDE  1400.0   \n",
       "1  01/12/2018                          VIMAL SILKS   890.0   \n",
       "2  01/12/2018  PATANJALI AYURVEDIC & ORGANIC STORE   487.0   \n",
       "3  01/12/2018  PATANJALI AYURVEDIC & ORGANIC STORE   140.0   \n",
       "4  01/12/2018  PATANJALI AYURVEDIC & ORGANIC STORE   170.0   \n",
       "\n",
       "                ACCOUNT  CATEGORY                     DATE1  \n",
       "0  CitiBank credit 6328  SHOPPING 2018-12-01 00:00:00+00:00  \n",
       "1  CitiBank credit 6328  SHOPPING 2018-12-01 00:00:00+00:00  \n",
       "2  CitiBank credit 6328  SHOPPING 2018-12-01 00:00:00+00:00  \n",
       "3  CitiBank credit 6328  SHOPPING 2018-12-01 00:00:00+00:00  \n",
       "4  CitiBank credit 6328  SHOPPING 2018-12-01 00:00:00+00:00  "
      ]
     },
     "execution_count": 12,
     "metadata": {},
     "output_type": "execute_result"
    }
   ],
   "source": [
    "X_dec.head()"
   ]
  },
  {
   "cell_type": "code",
   "execution_count": 13,
   "metadata": {},
   "outputs": [
    {
     "data": {
      "text/plain": [
       "0    737029\n",
       "1    737029\n",
       "2    737029\n",
       "3    737029\n",
       "4    737029\n",
       "Name: DATE2, dtype: int64"
      ]
     },
     "execution_count": 13,
     "metadata": {},
     "output_type": "execute_result"
    }
   ],
   "source": [
    "X_dec['DATE2']=X_dec['DATE1'].apply(lambda x: x.toordinal())\n",
    "X_dec['DATE2'].head()"
   ]
  },
  {
   "cell_type": "code",
   "execution_count": 14,
   "metadata": {},
   "outputs": [
    {
     "data": {
      "text/html": [
       "<div>\n",
       "<style scoped>\n",
       "    .dataframe tbody tr th:only-of-type {\n",
       "        vertical-align: middle;\n",
       "    }\n",
       "\n",
       "    .dataframe tbody tr th {\n",
       "        vertical-align: top;\n",
       "    }\n",
       "\n",
       "    .dataframe thead th {\n",
       "        text-align: right;\n",
       "    }\n",
       "</style>\n",
       "<table border=\"1\" class=\"dataframe\">\n",
       "  <thead>\n",
       "    <tr style=\"text-align: right;\">\n",
       "      <th></th>\n",
       "      <th>DATE</th>\n",
       "      <th>PLACE</th>\n",
       "      <th>AMOUNT</th>\n",
       "      <th>ACCOUNT</th>\n",
       "      <th>CATEGORY</th>\n",
       "      <th>DATE1</th>\n",
       "      <th>DATE2</th>\n",
       "    </tr>\n",
       "  </thead>\n",
       "  <tbody>\n",
       "    <tr>\n",
       "      <th>0</th>\n",
       "      <td>01/12/2018</td>\n",
       "      <td>WESTSIDE</td>\n",
       "      <td>1400.0</td>\n",
       "      <td>CitiBank credit 6328</td>\n",
       "      <td>SHOPPING</td>\n",
       "      <td>2018-12-01 00:00:00+00:00</td>\n",
       "      <td>737029</td>\n",
       "    </tr>\n",
       "    <tr>\n",
       "      <th>1</th>\n",
       "      <td>01/12/2018</td>\n",
       "      <td>VIMAL SILKS</td>\n",
       "      <td>890.0</td>\n",
       "      <td>CitiBank credit 6328</td>\n",
       "      <td>SHOPPING</td>\n",
       "      <td>2018-12-01 00:00:00+00:00</td>\n",
       "      <td>737029</td>\n",
       "    </tr>\n",
       "    <tr>\n",
       "      <th>2</th>\n",
       "      <td>01/12/2018</td>\n",
       "      <td>PATANJALI AYURVEDIC &amp; ORGANIC STORE</td>\n",
       "      <td>487.0</td>\n",
       "      <td>CitiBank credit 6328</td>\n",
       "      <td>SHOPPING</td>\n",
       "      <td>2018-12-01 00:00:00+00:00</td>\n",
       "      <td>737029</td>\n",
       "    </tr>\n",
       "    <tr>\n",
       "      <th>3</th>\n",
       "      <td>01/12/2018</td>\n",
       "      <td>PATANJALI AYURVEDIC &amp; ORGANIC STORE</td>\n",
       "      <td>140.0</td>\n",
       "      <td>CitiBank credit 6328</td>\n",
       "      <td>SHOPPING</td>\n",
       "      <td>2018-12-01 00:00:00+00:00</td>\n",
       "      <td>737029</td>\n",
       "    </tr>\n",
       "    <tr>\n",
       "      <th>4</th>\n",
       "      <td>01/12/2018</td>\n",
       "      <td>PATANJALI AYURVEDIC &amp; ORGANIC STORE</td>\n",
       "      <td>170.0</td>\n",
       "      <td>CitiBank credit 6328</td>\n",
       "      <td>SHOPPING</td>\n",
       "      <td>2018-12-01 00:00:00+00:00</td>\n",
       "      <td>737029</td>\n",
       "    </tr>\n",
       "  </tbody>\n",
       "</table>\n",
       "</div>"
      ],
      "text/plain": [
       "         DATE                                PLACE  AMOUNT  \\\n",
       "0  01/12/2018                             WESTSIDE  1400.0   \n",
       "1  01/12/2018                          VIMAL SILKS   890.0   \n",
       "2  01/12/2018  PATANJALI AYURVEDIC & ORGANIC STORE   487.0   \n",
       "3  01/12/2018  PATANJALI AYURVEDIC & ORGANIC STORE   140.0   \n",
       "4  01/12/2018  PATANJALI AYURVEDIC & ORGANIC STORE   170.0   \n",
       "\n",
       "                ACCOUNT  CATEGORY                     DATE1   DATE2  \n",
       "0  CitiBank credit 6328  SHOPPING 2018-12-01 00:00:00+00:00  737029  \n",
       "1  CitiBank credit 6328  SHOPPING 2018-12-01 00:00:00+00:00  737029  \n",
       "2  CitiBank credit 6328  SHOPPING 2018-12-01 00:00:00+00:00  737029  \n",
       "3  CitiBank credit 6328  SHOPPING 2018-12-01 00:00:00+00:00  737029  \n",
       "4  CitiBank credit 6328  SHOPPING 2018-12-01 00:00:00+00:00  737029  "
      ]
     },
     "execution_count": 14,
     "metadata": {},
     "output_type": "execute_result"
    }
   ],
   "source": [
    "X_dec.head()"
   ]
  },
  {
   "cell_type": "code",
   "execution_count": 15,
   "metadata": {},
   "outputs": [
    {
     "data": {
      "text/html": [
       "<div>\n",
       "<style scoped>\n",
       "    .dataframe tbody tr th:only-of-type {\n",
       "        vertical-align: middle;\n",
       "    }\n",
       "\n",
       "    .dataframe tbody tr th {\n",
       "        vertical-align: top;\n",
       "    }\n",
       "\n",
       "    .dataframe thead th {\n",
       "        text-align: right;\n",
       "    }\n",
       "</style>\n",
       "<table border=\"1\" class=\"dataframe\">\n",
       "  <thead>\n",
       "    <tr style=\"text-align: right;\">\n",
       "      <th></th>\n",
       "      <th>PLACE</th>\n",
       "      <th>AMOUNT</th>\n",
       "      <th>ACCOUNT</th>\n",
       "      <th>CATEGORY</th>\n",
       "      <th>DATE2</th>\n",
       "    </tr>\n",
       "  </thead>\n",
       "  <tbody>\n",
       "    <tr>\n",
       "      <th>0</th>\n",
       "      <td>WESTSIDE</td>\n",
       "      <td>1400.0</td>\n",
       "      <td>CitiBank credit 6328</td>\n",
       "      <td>SHOPPING</td>\n",
       "      <td>737029</td>\n",
       "    </tr>\n",
       "    <tr>\n",
       "      <th>1</th>\n",
       "      <td>VIMAL SILKS</td>\n",
       "      <td>890.0</td>\n",
       "      <td>CitiBank credit 6328</td>\n",
       "      <td>SHOPPING</td>\n",
       "      <td>737029</td>\n",
       "    </tr>\n",
       "    <tr>\n",
       "      <th>2</th>\n",
       "      <td>PATANJALI AYURVEDIC &amp; ORGANIC STORE</td>\n",
       "      <td>487.0</td>\n",
       "      <td>CitiBank credit 6328</td>\n",
       "      <td>SHOPPING</td>\n",
       "      <td>737029</td>\n",
       "    </tr>\n",
       "    <tr>\n",
       "      <th>3</th>\n",
       "      <td>PATANJALI AYURVEDIC &amp; ORGANIC STORE</td>\n",
       "      <td>140.0</td>\n",
       "      <td>CitiBank credit 6328</td>\n",
       "      <td>SHOPPING</td>\n",
       "      <td>737029</td>\n",
       "    </tr>\n",
       "    <tr>\n",
       "      <th>4</th>\n",
       "      <td>PATANJALI AYURVEDIC &amp; ORGANIC STORE</td>\n",
       "      <td>170.0</td>\n",
       "      <td>CitiBank credit 6328</td>\n",
       "      <td>SHOPPING</td>\n",
       "      <td>737029</td>\n",
       "    </tr>\n",
       "  </tbody>\n",
       "</table>\n",
       "</div>"
      ],
      "text/plain": [
       "                                 PLACE  AMOUNT               ACCOUNT  \\\n",
       "0                             WESTSIDE  1400.0  CitiBank credit 6328   \n",
       "1                          VIMAL SILKS   890.0  CitiBank credit 6328   \n",
       "2  PATANJALI AYURVEDIC & ORGANIC STORE   487.0  CitiBank credit 6328   \n",
       "3  PATANJALI AYURVEDIC & ORGANIC STORE   140.0  CitiBank credit 6328   \n",
       "4  PATANJALI AYURVEDIC & ORGANIC STORE   170.0  CitiBank credit 6328   \n",
       "\n",
       "   CATEGORY   DATE2  \n",
       "0  SHOPPING  737029  \n",
       "1  SHOPPING  737029  \n",
       "2  SHOPPING  737029  \n",
       "3  SHOPPING  737029  \n",
       "4  SHOPPING  737029  "
      ]
     },
     "execution_count": 15,
     "metadata": {},
     "output_type": "execute_result"
    }
   ],
   "source": [
    "X_dec.drop(columns=['DATE','DATE1'],axis=1,inplace=True)\n",
    "X_dec.head()"
   ]
  },
  {
   "cell_type": "code",
   "execution_count": 16,
   "metadata": {},
   "outputs": [
    {
     "data": {
      "text/plain": [
       "['PLACE', 'ACCOUNT', 'CATEGORY']"
      ]
     },
     "execution_count": 16,
     "metadata": {},
     "output_type": "execute_result"
    }
   ],
   "source": [
    "categorical_columns = [x for x in X_dec.dtypes.index if X_dec.dtypes[x]=='object']\n",
    "categorical_columns"
   ]
  },
  {
   "cell_type": "code",
   "execution_count": 17,
   "metadata": {},
   "outputs": [
    {
     "name": "stdout",
     "output_type": "stream",
     "text": [
      "PLACE :\n",
      "UPI FUNDS TRANSFER                             10\n",
      "PAYTM.COM/PAYTMWALLE                            6\n",
      "PHONEPEPRIVA68592                               5\n",
      "ECS                                             4\n",
      "PATANJALI AYURVEDIC & ORGANIC STORE             3\n",
      "AMAZON                                          3\n",
      "JEYACHANDRA                                     2\n",
      "PAYTM.COM/RECHARGE                              2\n",
      "VIMAL SILKS                                     1\n",
      "BSNL                                            1\n",
      "AQUA GAURD SERVICE WITH FILLTES REPLACEMENT     1\n",
      "SARAVANA STORE GOLD PALACE                      1\n",
      "AMAZON PAY                                      1\n",
      "DEBIT                                           1\n",
      "FLIPKART                                        1\n",
      "VIDEOCON D2H                                    1\n",
      "PAYTM                                           1\n",
      "SRI VIGNESHWARI AGE                             1\n",
      "LIC                                             1\n",
      "PL. A. KRISHNA INN                              1\n",
      "NET BANKING                                     1\n",
      "PHONEPE                                         1\n",
      "ATM                                             1\n",
      "VANGA SAPIDALAM MUD MA                          1\n",
      "THE ROYAL TIBET                                 1\n",
      "WESTSIDE                                        1\n",
      "Name: PLACE, dtype: int64 \n",
      "\n",
      "ACCOUNT :\n",
      "CitiBank credit 6328       27\n",
      "Axis  575331               15\n",
      "HDFC  4716                  4\n",
      "CASH Spends                 1\n",
      "HDFC debit 0177             1\n",
      "Sodexo  3855                1\n",
      "SBI  XXXX                   1\n",
      "IOB  5190                   1\n",
      "Amazon Pay  Unknown         1\n",
      "Videocon D2H  159965025     1\n",
      "Name: ACCOUNT, dtype: int64 \n",
      "\n",
      "CATEGORY :\n",
      "SHOPPING         11\n",
      "FUEL             10\n",
      "INSURANCE         5\n",
      "TRANSFER          5\n",
      "ENTERTAINMENT     4\n",
      "GROCERIES         3\n",
      "BILLS             3\n",
      "LOAN              3\n",
      "FOOD & DRINKS     2\n",
      "INVESTMENT        2\n",
      "POCKET MONEY      1\n",
      "PHONE             1\n",
      "EMI               1\n",
      "SERVICES          1\n",
      "Name: CATEGORY, dtype: int64 \n",
      "\n"
     ]
    }
   ],
   "source": [
    "cols = ['PLACE','ACCOUNT','CATEGORY']\n",
    "for name in cols:\n",
    "    print(name,':')\n",
    "    print(X_dec[name].value_counts(),'\\n')"
   ]
  },
  {
   "cell_type": "code",
   "execution_count": 18,
   "metadata": {},
   "outputs": [],
   "source": [
    "X_dec['CATEGORY']=X_dec.fillna('POCKET MONEY')"
   ]
  },
  {
   "cell_type": "code",
   "execution_count": 19,
   "metadata": {},
   "outputs": [
    {
     "name": "stdout",
     "output_type": "stream",
     "text": [
      "<class 'pandas.core.frame.DataFrame'>\n",
      "RangeIndex: 53 entries, 0 to 52\n",
      "Data columns (total 5 columns):\n",
      "PLACE       53 non-null object\n",
      "AMOUNT      53 non-null float64\n",
      "ACCOUNT     53 non-null object\n",
      "CATEGORY    53 non-null object\n",
      "DATE2       53 non-null int64\n",
      "dtypes: float64(1), int64(1), object(3)\n",
      "memory usage: 2.1+ KB\n"
     ]
    }
   ],
   "source": [
    "X_dec.info()\n"
   ]
  },
  {
   "cell_type": "code",
   "execution_count": 20,
   "metadata": {},
   "outputs": [
    {
     "data": {
      "text/html": [
       "<div>\n",
       "<style scoped>\n",
       "    .dataframe tbody tr th:only-of-type {\n",
       "        vertical-align: middle;\n",
       "    }\n",
       "\n",
       "    .dataframe tbody tr th {\n",
       "        vertical-align: top;\n",
       "    }\n",
       "\n",
       "    .dataframe thead th {\n",
       "        text-align: right;\n",
       "    }\n",
       "</style>\n",
       "<table border=\"1\" class=\"dataframe\">\n",
       "  <thead>\n",
       "    <tr style=\"text-align: right;\">\n",
       "      <th></th>\n",
       "      <th>PLACE</th>\n",
       "      <th>AMOUNT</th>\n",
       "      <th>ACCOUNT</th>\n",
       "      <th>CATEGORY</th>\n",
       "      <th>DATE2</th>\n",
       "      <th>column name_AMAZON</th>\n",
       "      <th>column name_AMAZON PAY</th>\n",
       "      <th>column name_AQUA GAURD SERVICE WITH FILLTES REPLACEMENT</th>\n",
       "      <th>column name_ATM</th>\n",
       "      <th>column name_BSNL</th>\n",
       "      <th>...</th>\n",
       "      <th>column name_PHONEPEPRIVA68592</th>\n",
       "      <th>column name_PL. A. KRISHNA INN</th>\n",
       "      <th>column name_SARAVANA STORE GOLD PALACE</th>\n",
       "      <th>column name_SRI VIGNESHWARI AGE</th>\n",
       "      <th>column name_THE ROYAL TIBET</th>\n",
       "      <th>column name_UPI FUNDS TRANSFER</th>\n",
       "      <th>column name_VANGA SAPIDALAM MUD MA</th>\n",
       "      <th>column name_VIDEOCON D2H</th>\n",
       "      <th>column name_VIMAL SILKS</th>\n",
       "      <th>column name_WESTSIDE</th>\n",
       "    </tr>\n",
       "  </thead>\n",
       "  <tbody>\n",
       "    <tr>\n",
       "      <th>0</th>\n",
       "      <td>WESTSIDE</td>\n",
       "      <td>1400.0</td>\n",
       "      <td>CitiBank credit 6328</td>\n",
       "      <td>WESTSIDE</td>\n",
       "      <td>737029</td>\n",
       "      <td>0</td>\n",
       "      <td>0</td>\n",
       "      <td>0</td>\n",
       "      <td>0</td>\n",
       "      <td>0</td>\n",
       "      <td>...</td>\n",
       "      <td>0</td>\n",
       "      <td>0</td>\n",
       "      <td>0</td>\n",
       "      <td>0</td>\n",
       "      <td>0</td>\n",
       "      <td>0</td>\n",
       "      <td>0</td>\n",
       "      <td>0</td>\n",
       "      <td>0</td>\n",
       "      <td>1</td>\n",
       "    </tr>\n",
       "    <tr>\n",
       "      <th>1</th>\n",
       "      <td>VIMAL SILKS</td>\n",
       "      <td>890.0</td>\n",
       "      <td>CitiBank credit 6328</td>\n",
       "      <td>VIMAL SILKS</td>\n",
       "      <td>737029</td>\n",
       "      <td>0</td>\n",
       "      <td>0</td>\n",
       "      <td>0</td>\n",
       "      <td>0</td>\n",
       "      <td>0</td>\n",
       "      <td>...</td>\n",
       "      <td>0</td>\n",
       "      <td>0</td>\n",
       "      <td>0</td>\n",
       "      <td>0</td>\n",
       "      <td>0</td>\n",
       "      <td>0</td>\n",
       "      <td>0</td>\n",
       "      <td>0</td>\n",
       "      <td>1</td>\n",
       "      <td>0</td>\n",
       "    </tr>\n",
       "    <tr>\n",
       "      <th>2</th>\n",
       "      <td>PATANJALI AYURVEDIC &amp; ORGANIC STORE</td>\n",
       "      <td>487.0</td>\n",
       "      <td>CitiBank credit 6328</td>\n",
       "      <td>PATANJALI AYURVEDIC &amp; ORGANIC STORE</td>\n",
       "      <td>737029</td>\n",
       "      <td>0</td>\n",
       "      <td>0</td>\n",
       "      <td>0</td>\n",
       "      <td>0</td>\n",
       "      <td>0</td>\n",
       "      <td>...</td>\n",
       "      <td>0</td>\n",
       "      <td>0</td>\n",
       "      <td>0</td>\n",
       "      <td>0</td>\n",
       "      <td>0</td>\n",
       "      <td>0</td>\n",
       "      <td>0</td>\n",
       "      <td>0</td>\n",
       "      <td>0</td>\n",
       "      <td>0</td>\n",
       "    </tr>\n",
       "    <tr>\n",
       "      <th>3</th>\n",
       "      <td>PATANJALI AYURVEDIC &amp; ORGANIC STORE</td>\n",
       "      <td>140.0</td>\n",
       "      <td>CitiBank credit 6328</td>\n",
       "      <td>PATANJALI AYURVEDIC &amp; ORGANIC STORE</td>\n",
       "      <td>737029</td>\n",
       "      <td>0</td>\n",
       "      <td>0</td>\n",
       "      <td>0</td>\n",
       "      <td>0</td>\n",
       "      <td>0</td>\n",
       "      <td>...</td>\n",
       "      <td>0</td>\n",
       "      <td>0</td>\n",
       "      <td>0</td>\n",
       "      <td>0</td>\n",
       "      <td>0</td>\n",
       "      <td>0</td>\n",
       "      <td>0</td>\n",
       "      <td>0</td>\n",
       "      <td>0</td>\n",
       "      <td>0</td>\n",
       "    </tr>\n",
       "    <tr>\n",
       "      <th>4</th>\n",
       "      <td>PATANJALI AYURVEDIC &amp; ORGANIC STORE</td>\n",
       "      <td>170.0</td>\n",
       "      <td>CitiBank credit 6328</td>\n",
       "      <td>PATANJALI AYURVEDIC &amp; ORGANIC STORE</td>\n",
       "      <td>737029</td>\n",
       "      <td>0</td>\n",
       "      <td>0</td>\n",
       "      <td>0</td>\n",
       "      <td>0</td>\n",
       "      <td>0</td>\n",
       "      <td>...</td>\n",
       "      <td>0</td>\n",
       "      <td>0</td>\n",
       "      <td>0</td>\n",
       "      <td>0</td>\n",
       "      <td>0</td>\n",
       "      <td>0</td>\n",
       "      <td>0</td>\n",
       "      <td>0</td>\n",
       "      <td>0</td>\n",
       "      <td>0</td>\n",
       "    </tr>\n",
       "  </tbody>\n",
       "</table>\n",
       "<p>5 rows × 67 columns</p>\n",
       "</div>"
      ],
      "text/plain": [
       "                                 PLACE  AMOUNT               ACCOUNT  \\\n",
       "0                             WESTSIDE  1400.0  CitiBank credit 6328   \n",
       "1                          VIMAL SILKS   890.0  CitiBank credit 6328   \n",
       "2  PATANJALI AYURVEDIC & ORGANIC STORE   487.0  CitiBank credit 6328   \n",
       "3  PATANJALI AYURVEDIC & ORGANIC STORE   140.0  CitiBank credit 6328   \n",
       "4  PATANJALI AYURVEDIC & ORGANIC STORE   170.0  CitiBank credit 6328   \n",
       "\n",
       "                              CATEGORY   DATE2  column name_AMAZON  \\\n",
       "0                             WESTSIDE  737029                   0   \n",
       "1                          VIMAL SILKS  737029                   0   \n",
       "2  PATANJALI AYURVEDIC & ORGANIC STORE  737029                   0   \n",
       "3  PATANJALI AYURVEDIC & ORGANIC STORE  737029                   0   \n",
       "4  PATANJALI AYURVEDIC & ORGANIC STORE  737029                   0   \n",
       "\n",
       "   column name_AMAZON PAY  \\\n",
       "0                       0   \n",
       "1                       0   \n",
       "2                       0   \n",
       "3                       0   \n",
       "4                       0   \n",
       "\n",
       "   column name_AQUA GAURD SERVICE WITH FILLTES REPLACEMENT  column name_ATM  \\\n",
       "0                                                  0                      0   \n",
       "1                                                  0                      0   \n",
       "2                                                  0                      0   \n",
       "3                                                  0                      0   \n",
       "4                                                  0                      0   \n",
       "\n",
       "   column name_BSNL          ...           column name_PHONEPEPRIVA68592  \\\n",
       "0                 0          ...                                       0   \n",
       "1                 0          ...                                       0   \n",
       "2                 0          ...                                       0   \n",
       "3                 0          ...                                       0   \n",
       "4                 0          ...                                       0   \n",
       "\n",
       "   column name_PL. A. KRISHNA INN  column name_SARAVANA STORE GOLD PALACE  \\\n",
       "0                               0                                       0   \n",
       "1                               0                                       0   \n",
       "2                               0                                       0   \n",
       "3                               0                                       0   \n",
       "4                               0                                       0   \n",
       "\n",
       "   column name_SRI VIGNESHWARI AGE  column name_THE ROYAL TIBET  \\\n",
       "0                                0                            0   \n",
       "1                                0                            0   \n",
       "2                                0                            0   \n",
       "3                                0                            0   \n",
       "4                                0                            0   \n",
       "\n",
       "   column name_UPI FUNDS TRANSFER  column name_VANGA SAPIDALAM MUD MA  \\\n",
       "0                               0                                   0   \n",
       "1                               0                                   0   \n",
       "2                               0                                   0   \n",
       "3                               0                                   0   \n",
       "4                               0                                   0   \n",
       "\n",
       "   column name_VIDEOCON D2H  column name_VIMAL SILKS  column name_WESTSIDE  \n",
       "0                         0                        0                     1  \n",
       "1                         0                        1                     0  \n",
       "2                         0                        0                     0  \n",
       "3                         0                        0                     0  \n",
       "4                         0                        0                     0  \n",
       "\n",
       "[5 rows x 67 columns]"
      ]
     },
     "execution_count": 20,
     "metadata": {},
     "output_type": "execute_result"
    }
   ],
   "source": [
    "df=pd.concat([X_dec,pd.get_dummies(X_dec[['PLACE', 'ACCOUNT', 'CATEGORY']],prefix='column name')],axis=1)\n",
    "df.head()"
   ]
  },
  {
   "cell_type": "code",
   "execution_count": 21,
   "metadata": {},
   "outputs": [],
   "source": [
    "df=df.drop(columns=['PLACE','ACCOUNT','CATEGORY'],axis=1)"
   ]
  },
  {
   "cell_type": "code",
   "execution_count": 22,
   "metadata": {},
   "outputs": [
    {
     "data": {
      "text/html": [
       "<div>\n",
       "<style scoped>\n",
       "    .dataframe tbody tr th:only-of-type {\n",
       "        vertical-align: middle;\n",
       "    }\n",
       "\n",
       "    .dataframe tbody tr th {\n",
       "        vertical-align: top;\n",
       "    }\n",
       "\n",
       "    .dataframe thead th {\n",
       "        text-align: right;\n",
       "    }\n",
       "</style>\n",
       "<table border=\"1\" class=\"dataframe\">\n",
       "  <thead>\n",
       "    <tr style=\"text-align: right;\">\n",
       "      <th></th>\n",
       "      <th>AMOUNT</th>\n",
       "      <th>DATE2</th>\n",
       "      <th>column name_AMAZON</th>\n",
       "      <th>column name_AMAZON PAY</th>\n",
       "      <th>column name_AQUA GAURD SERVICE WITH FILLTES REPLACEMENT</th>\n",
       "      <th>column name_ATM</th>\n",
       "      <th>column name_BSNL</th>\n",
       "      <th>column name_DEBIT</th>\n",
       "      <th>column name_ECS</th>\n",
       "      <th>column name_FLIPKART</th>\n",
       "      <th>...</th>\n",
       "      <th>column name_PHONEPEPRIVA68592</th>\n",
       "      <th>column name_PL. A. KRISHNA INN</th>\n",
       "      <th>column name_SARAVANA STORE GOLD PALACE</th>\n",
       "      <th>column name_SRI VIGNESHWARI AGE</th>\n",
       "      <th>column name_THE ROYAL TIBET</th>\n",
       "      <th>column name_UPI FUNDS TRANSFER</th>\n",
       "      <th>column name_VANGA SAPIDALAM MUD MA</th>\n",
       "      <th>column name_VIDEOCON D2H</th>\n",
       "      <th>column name_VIMAL SILKS</th>\n",
       "      <th>column name_WESTSIDE</th>\n",
       "    </tr>\n",
       "  </thead>\n",
       "  <tbody>\n",
       "    <tr>\n",
       "      <th>0</th>\n",
       "      <td>1400.0</td>\n",
       "      <td>737029</td>\n",
       "      <td>0</td>\n",
       "      <td>0</td>\n",
       "      <td>0</td>\n",
       "      <td>0</td>\n",
       "      <td>0</td>\n",
       "      <td>0</td>\n",
       "      <td>0</td>\n",
       "      <td>0</td>\n",
       "      <td>...</td>\n",
       "      <td>0</td>\n",
       "      <td>0</td>\n",
       "      <td>0</td>\n",
       "      <td>0</td>\n",
       "      <td>0</td>\n",
       "      <td>0</td>\n",
       "      <td>0</td>\n",
       "      <td>0</td>\n",
       "      <td>0</td>\n",
       "      <td>1</td>\n",
       "    </tr>\n",
       "    <tr>\n",
       "      <th>1</th>\n",
       "      <td>890.0</td>\n",
       "      <td>737029</td>\n",
       "      <td>0</td>\n",
       "      <td>0</td>\n",
       "      <td>0</td>\n",
       "      <td>0</td>\n",
       "      <td>0</td>\n",
       "      <td>0</td>\n",
       "      <td>0</td>\n",
       "      <td>0</td>\n",
       "      <td>...</td>\n",
       "      <td>0</td>\n",
       "      <td>0</td>\n",
       "      <td>0</td>\n",
       "      <td>0</td>\n",
       "      <td>0</td>\n",
       "      <td>0</td>\n",
       "      <td>0</td>\n",
       "      <td>0</td>\n",
       "      <td>1</td>\n",
       "      <td>0</td>\n",
       "    </tr>\n",
       "    <tr>\n",
       "      <th>2</th>\n",
       "      <td>487.0</td>\n",
       "      <td>737029</td>\n",
       "      <td>0</td>\n",
       "      <td>0</td>\n",
       "      <td>0</td>\n",
       "      <td>0</td>\n",
       "      <td>0</td>\n",
       "      <td>0</td>\n",
       "      <td>0</td>\n",
       "      <td>0</td>\n",
       "      <td>...</td>\n",
       "      <td>0</td>\n",
       "      <td>0</td>\n",
       "      <td>0</td>\n",
       "      <td>0</td>\n",
       "      <td>0</td>\n",
       "      <td>0</td>\n",
       "      <td>0</td>\n",
       "      <td>0</td>\n",
       "      <td>0</td>\n",
       "      <td>0</td>\n",
       "    </tr>\n",
       "    <tr>\n",
       "      <th>3</th>\n",
       "      <td>140.0</td>\n",
       "      <td>737029</td>\n",
       "      <td>0</td>\n",
       "      <td>0</td>\n",
       "      <td>0</td>\n",
       "      <td>0</td>\n",
       "      <td>0</td>\n",
       "      <td>0</td>\n",
       "      <td>0</td>\n",
       "      <td>0</td>\n",
       "      <td>...</td>\n",
       "      <td>0</td>\n",
       "      <td>0</td>\n",
       "      <td>0</td>\n",
       "      <td>0</td>\n",
       "      <td>0</td>\n",
       "      <td>0</td>\n",
       "      <td>0</td>\n",
       "      <td>0</td>\n",
       "      <td>0</td>\n",
       "      <td>0</td>\n",
       "    </tr>\n",
       "    <tr>\n",
       "      <th>4</th>\n",
       "      <td>170.0</td>\n",
       "      <td>737029</td>\n",
       "      <td>0</td>\n",
       "      <td>0</td>\n",
       "      <td>0</td>\n",
       "      <td>0</td>\n",
       "      <td>0</td>\n",
       "      <td>0</td>\n",
       "      <td>0</td>\n",
       "      <td>0</td>\n",
       "      <td>...</td>\n",
       "      <td>0</td>\n",
       "      <td>0</td>\n",
       "      <td>0</td>\n",
       "      <td>0</td>\n",
       "      <td>0</td>\n",
       "      <td>0</td>\n",
       "      <td>0</td>\n",
       "      <td>0</td>\n",
       "      <td>0</td>\n",
       "      <td>0</td>\n",
       "    </tr>\n",
       "  </tbody>\n",
       "</table>\n",
       "<p>5 rows × 64 columns</p>\n",
       "</div>"
      ],
      "text/plain": [
       "   AMOUNT   DATE2  column name_AMAZON  column name_AMAZON PAY  \\\n",
       "0  1400.0  737029                   0                       0   \n",
       "1   890.0  737029                   0                       0   \n",
       "2   487.0  737029                   0                       0   \n",
       "3   140.0  737029                   0                       0   \n",
       "4   170.0  737029                   0                       0   \n",
       "\n",
       "   column name_AQUA GAURD SERVICE WITH FILLTES REPLACEMENT  column name_ATM  \\\n",
       "0                                                  0                      0   \n",
       "1                                                  0                      0   \n",
       "2                                                  0                      0   \n",
       "3                                                  0                      0   \n",
       "4                                                  0                      0   \n",
       "\n",
       "   column name_BSNL  column name_DEBIT  column name_ECS  column name_FLIPKART  \\\n",
       "0                 0                  0                0                     0   \n",
       "1                 0                  0                0                     0   \n",
       "2                 0                  0                0                     0   \n",
       "3                 0                  0                0                     0   \n",
       "4                 0                  0                0                     0   \n",
       "\n",
       "           ...           column name_PHONEPEPRIVA68592  \\\n",
       "0          ...                                       0   \n",
       "1          ...                                       0   \n",
       "2          ...                                       0   \n",
       "3          ...                                       0   \n",
       "4          ...                                       0   \n",
       "\n",
       "   column name_PL. A. KRISHNA INN  column name_SARAVANA STORE GOLD PALACE  \\\n",
       "0                               0                                       0   \n",
       "1                               0                                       0   \n",
       "2                               0                                       0   \n",
       "3                               0                                       0   \n",
       "4                               0                                       0   \n",
       "\n",
       "   column name_SRI VIGNESHWARI AGE  column name_THE ROYAL TIBET  \\\n",
       "0                                0                            0   \n",
       "1                                0                            0   \n",
       "2                                0                            0   \n",
       "3                                0                            0   \n",
       "4                                0                            0   \n",
       "\n",
       "   column name_UPI FUNDS TRANSFER  column name_VANGA SAPIDALAM MUD MA  \\\n",
       "0                               0                                   0   \n",
       "1                               0                                   0   \n",
       "2                               0                                   0   \n",
       "3                               0                                   0   \n",
       "4                               0                                   0   \n",
       "\n",
       "   column name_VIDEOCON D2H  column name_VIMAL SILKS  column name_WESTSIDE  \n",
       "0                         0                        0                     1  \n",
       "1                         0                        1                     0  \n",
       "2                         0                        0                     0  \n",
       "3                         0                        0                     0  \n",
       "4                         0                        0                     0  \n",
       "\n",
       "[5 rows x 64 columns]"
      ]
     },
     "execution_count": 22,
     "metadata": {},
     "output_type": "execute_result"
    }
   ],
   "source": [
    "X_dec=df\n",
    "X_dec.head()"
   ]
  },
  {
   "cell_type": "code",
   "execution_count": 23,
   "metadata": {},
   "outputs": [
    {
     "data": {
      "text/plain": [
       "48    1\n",
       "49    1\n",
       "50    1\n",
       "51    0\n",
       "52    1\n",
       "Name: outcome, dtype: int64"
      ]
     },
     "execution_count": 23,
     "metadata": {},
     "output_type": "execute_result"
    }
   ],
   "source": [
    "y_dec.tail()"
   ]
  },
  {
   "cell_type": "code",
   "execution_count": 24,
   "metadata": {},
   "outputs": [],
   "source": [
    "X_dec_train, X_dec_test, y_dec_train, y_dec_test = train_test_split(X_dec, y_dec, test_size = .4, random_state=25)"
   ]
  },
  {
   "cell_type": "code",
   "execution_count": 25,
   "metadata": {},
   "outputs": [
    {
     "name": "stdout",
     "output_type": "stream",
     "text": [
      "(31, 64)\n",
      "(22, 64)\n",
      "(31,)\n",
      "(22,)\n"
     ]
    }
   ],
   "source": [
    "print(X_dec_train.shape)\n",
    "print(X_dec_test.shape)\n",
    "print(y_dec_train.shape)\n",
    "print(y_dec_test.shape)"
   ]
  },
  {
   "cell_type": "code",
   "execution_count": 26,
   "metadata": {},
   "outputs": [],
   "source": [
    "from sklearn.linear_model import LogisticRegression"
   ]
  },
  {
   "cell_type": "code",
   "execution_count": 27,
   "metadata": {},
   "outputs": [],
   "source": [
    "logr=LogisticRegression()"
   ]
  },
  {
   "cell_type": "code",
   "execution_count": 28,
   "metadata": {},
   "outputs": [
    {
     "data": {
      "text/plain": [
       "LogisticRegression(C=1.0, class_weight=None, dual=False, fit_intercept=True,\n",
       "          intercept_scaling=1, max_iter=100, multi_class='ovr', n_jobs=1,\n",
       "          penalty='l2', random_state=None, solver='liblinear', tol=0.0001,\n",
       "          verbose=0, warm_start=False)"
      ]
     },
     "execution_count": 28,
     "metadata": {},
     "output_type": "execute_result"
    }
   ],
   "source": [
    "logr.fit(X_dec_train, y_dec_train)"
   ]
  },
  {
   "cell_type": "code",
   "execution_count": 29,
   "metadata": {},
   "outputs": [
    {
     "name": "stdout",
     "output_type": "stream",
     "text": [
      "(31,)\n"
     ]
    }
   ],
   "source": [
    "X_dec_pred=logr.predict(X_dec_train)\n",
    "print(X_dec_pred.shape)"
   ]
  },
  {
   "cell_type": "code",
   "execution_count": 30,
   "metadata": {},
   "outputs": [
    {
     "name": "stdout",
     "output_type": "stream",
     "text": [
      "(22,)\n"
     ]
    }
   ],
   "source": [
    "y_dec_pred= logr.predict(X_dec_test)\n",
    "print(y_dec_pred.shape)"
   ]
  },
  {
   "cell_type": "code",
   "execution_count": 31,
   "metadata": {},
   "outputs": [
    {
     "data": {
      "text/plain": [
       "array([[ 4,  5],\n",
       "       [ 1, 21]], dtype=int64)"
      ]
     },
     "execution_count": 31,
     "metadata": {},
     "output_type": "execute_result"
    }
   ],
   "source": [
    "from sklearn.metrics import confusion_matrix\n",
    "confusion_matrix = confusion_matrix(y_dec_train, X_dec_pred)\n",
    "confusion_matrix"
   ]
  },
  {
   "cell_type": "code",
   "execution_count": 32,
   "metadata": {},
   "outputs": [
    {
     "name": "stdout",
     "output_type": "stream",
     "text": [
      "             precision    recall  f1-score   support\n",
      "\n",
      "          0       0.80      0.44      0.57         9\n",
      "          1       0.81      0.95      0.88        22\n",
      "\n",
      "avg / total       0.81      0.81      0.79        31\n",
      "\n"
     ]
    }
   ],
   "source": [
    "from sklearn.metrics import classification_report\n",
    "print(classification_report(y_dec_train, X_dec_pred))"
   ]
  },
  {
   "cell_type": "code",
   "execution_count": 33,
   "metadata": {},
   "outputs": [
    {
     "data": {
      "text/plain": [
       "array([[ 2,  3],\n",
       "       [ 1, 16]], dtype=int64)"
      ]
     },
     "execution_count": 33,
     "metadata": {},
     "output_type": "execute_result"
    }
   ],
   "source": [
    "from sklearn.metrics import confusion_matrix\n",
    "confusion_matrix = confusion_matrix(y_dec_test, y_dec_pred)\n",
    "confusion_matrix"
   ]
  },
  {
   "cell_type": "code",
   "execution_count": 34,
   "metadata": {},
   "outputs": [
    {
     "name": "stdout",
     "output_type": "stream",
     "text": [
      "             precision    recall  f1-score   support\n",
      "\n",
      "          0       0.67      0.40      0.50         5\n",
      "          1       0.84      0.94      0.89        17\n",
      "\n",
      "avg / total       0.80      0.82      0.80        22\n",
      "\n"
     ]
    }
   ],
   "source": [
    "from sklearn.metrics import classification_report\n",
    "print(classification_report(y_dec_test, y_dec_pred))"
   ]
  },
  {
   "cell_type": "code",
   "execution_count": 35,
   "metadata": {},
   "outputs": [
    {
     "name": "stdout",
     "output_type": "stream",
     "text": [
      "Logistic Regression model accuracy(in %): 81.81818181818183\n"
     ]
    }
   ],
   "source": [
    "from sklearn import metrics \n",
    "print(\"Logistic Regression model accuracy(in %):\", metrics.accuracy_score(y_dec_test, y_dec_pred)*100)"
   ]
  },
  {
   "cell_type": "code",
   "execution_count": 36,
   "metadata": {},
   "outputs": [
    {
     "data": {
      "text/plain": [
       "GaussianNB(priors=None)"
      ]
     },
     "execution_count": 36,
     "metadata": {},
     "output_type": "execute_result"
    }
   ],
   "source": [
    "from sklearn.naive_bayes import GaussianNB \n",
    "gnb = GaussianNB() \n",
    "gnb.fit(X_dec_train, y_dec_train) "
   ]
  },
  {
   "cell_type": "code",
   "execution_count": 37,
   "metadata": {},
   "outputs": [],
   "source": [
    "y_dec_pred = gnb.predict(X_dec_test)"
   ]
  },
  {
   "cell_type": "code",
   "execution_count": 38,
   "metadata": {},
   "outputs": [
    {
     "name": "stdout",
     "output_type": "stream",
     "text": [
      "Gaussian Naive Bayes model accuracy(in %): 63.63636363636363\n"
     ]
    }
   ],
   "source": [
    "from sklearn import metrics \n",
    "print(\"Gaussian Naive Bayes model accuracy(in %):\", metrics.accuracy_score(y_dec_test, y_dec_pred)*100)"
   ]
  },
  {
   "cell_type": "code",
   "execution_count": 39,
   "metadata": {},
   "outputs": [
    {
     "data": {
      "text/plain": [
       "DecisionTreeClassifier(class_weight=None, criterion='gini', max_depth=3,\n",
       "            max_features=None, max_leaf_nodes=None,\n",
       "            min_impurity_decrease=0.0, min_impurity_split=None,\n",
       "            min_samples_leaf=5, min_samples_split=2,\n",
       "            min_weight_fraction_leaf=0.0, presort=False, random_state=100,\n",
       "            splitter='best')"
      ]
     },
     "execution_count": 39,
     "metadata": {},
     "output_type": "execute_result"
    }
   ],
   "source": [
    "from sklearn.tree import DecisionTreeClassifier\n",
    "clf_gini = DecisionTreeClassifier(criterion = \"gini\", random_state = 100,\n",
    "                               max_depth=3, min_samples_leaf=5)\n",
    "clf_gini.fit(X_dec_train, y_dec_train)\n"
   ]
  },
  {
   "cell_type": "code",
   "execution_count": 40,
   "metadata": {},
   "outputs": [],
   "source": [
    "y_dec_pred = clf_gini.predict(X_dec_test)"
   ]
  },
  {
   "cell_type": "code",
   "execution_count": 41,
   "metadata": {},
   "outputs": [
    {
     "name": "stdout",
     "output_type": "stream",
     "text": [
      "Decision Tree Classification gini model accuracy(in %): 59.09090909090909\n"
     ]
    }
   ],
   "source": [
    "from sklearn import metrics \n",
    "print(\"Decision Tree Classification gini model accuracy(in %):\", metrics.accuracy_score(y_dec_test, y_dec_pred)*100)"
   ]
  },
  {
   "cell_type": "code",
   "execution_count": 42,
   "metadata": {},
   "outputs": [
    {
     "data": {
      "text/plain": [
       "DecisionTreeClassifier(class_weight=None, criterion='entropy', max_depth=3,\n",
       "            max_features=None, max_leaf_nodes=None,\n",
       "            min_impurity_decrease=0.0, min_impurity_split=None,\n",
       "            min_samples_leaf=5, min_samples_split=2,\n",
       "            min_weight_fraction_leaf=0.0, presort=False, random_state=100,\n",
       "            splitter='best')"
      ]
     },
     "execution_count": 42,
     "metadata": {},
     "output_type": "execute_result"
    }
   ],
   "source": [
    "clf_entropy = DecisionTreeClassifier(criterion = \"entropy\", random_state = 100,\n",
    "                 max_depth=3, min_samples_leaf=5)\n",
    "clf_entropy.fit(X_dec_train, y_dec_train)"
   ]
  },
  {
   "cell_type": "code",
   "execution_count": 43,
   "metadata": {},
   "outputs": [],
   "source": [
    "y_dec_pred_en = clf_entropy.predict(X_dec_test)"
   ]
  },
  {
   "cell_type": "code",
   "execution_count": 44,
   "metadata": {},
   "outputs": [
    {
     "name": "stdout",
     "output_type": "stream",
     "text": [
      "Decision Tree Classification Entropy model accuracy(in %): 59.09090909090909\n"
     ]
    }
   ],
   "source": [
    "from sklearn import metrics \n",
    "print(\"Decision Tree Classification Entropy model accuracy(in %):\", metrics.accuracy_score(y_dec_test, y_dec_pred_en)*100)"
   ]
  },
  {
   "cell_type": "code",
   "execution_count": 45,
   "metadata": {},
   "outputs": [],
   "source": [
    "from sklearn.ensemble import RandomForestClassifier"
   ]
  },
  {
   "cell_type": "code",
   "execution_count": 46,
   "metadata": {},
   "outputs": [],
   "source": [
    "rfc = RandomForestClassifier(n_estimators=30)"
   ]
  },
  {
   "cell_type": "code",
   "execution_count": 47,
   "metadata": {},
   "outputs": [
    {
     "data": {
      "text/plain": [
       "RandomForestClassifier(bootstrap=True, class_weight=None, criterion='gini',\n",
       "            max_depth=None, max_features='auto', max_leaf_nodes=None,\n",
       "            min_impurity_decrease=0.0, min_impurity_split=None,\n",
       "            min_samples_leaf=1, min_samples_split=2,\n",
       "            min_weight_fraction_leaf=0.0, n_estimators=30, n_jobs=1,\n",
       "            oob_score=False, random_state=None, verbose=0,\n",
       "            warm_start=False)"
      ]
     },
     "execution_count": 47,
     "metadata": {},
     "output_type": "execute_result"
    }
   ],
   "source": [
    "rfc.fit(X_dec_train, y_dec_train)"
   ]
  },
  {
   "cell_type": "code",
   "execution_count": 48,
   "metadata": {},
   "outputs": [],
   "source": [
    "y_dec_pred = rfc.predict(X_dec_test)"
   ]
  },
  {
   "cell_type": "code",
   "execution_count": 49,
   "metadata": {},
   "outputs": [
    {
     "name": "stdout",
     "output_type": "stream",
     "text": [
      "Random Forest Classification model accuracy(in %): 59.09090909090909\n"
     ]
    }
   ],
   "source": [
    "from sklearn import metrics \n",
    "print(\"Random Forest Classification model accuracy(in %):\", metrics.accuracy_score(y_dec_test, y_dec_pred_en)*100)"
   ]
  },
  {
   "cell_type": "code",
   "execution_count": 50,
   "metadata": {},
   "outputs": [],
   "source": [
    "from xgboost.sklearn import XGBClassifier"
   ]
  },
  {
   "cell_type": "code",
   "execution_count": 51,
   "metadata": {},
   "outputs": [],
   "source": [
    "xgbc=XGBClassifier(learning_rate =0.1, n_estimators=1000, max_depth=8, min_child_weight=6, gamma=0.1, subsample=0.9,colsample_bytree=0.95,reg_alpha=2, objective= 'binary:logistic', nthread=4, scale_pos_weight=1, seed=27)"
   ]
  },
  {
   "cell_type": "code",
   "execution_count": 52,
   "metadata": {},
   "outputs": [
    {
     "data": {
      "text/plain": [
       "array([[-0.30993983, -1.52024781],\n",
       "       [-0.35275436, -1.52024781],\n",
       "       [-0.38658623, -1.52024781],\n",
       "       [-0.41571689, -1.52024781],\n",
       "       [-0.41319839, -1.52024781],\n",
       "       [-0.40304043, -1.52024781],\n",
       "       [ 3.77003259, -1.30652597],\n",
       "       [-0.40707843, -1.30652597],\n",
       "       [ 1.33548115, -1.09280413],\n",
       "       [-0.12441022, -1.09280413],\n",
       "       [ 1.2515311 , -1.09280413],\n",
       "       [ 0.4120306 , -1.09280413],\n",
       "       [-0.0916697 , -0.66536045],\n",
       "       [-0.41798354, -0.66536045],\n",
       "       [-0.15882974, -0.66536045],\n",
       "       [-0.40866509, -0.66536045],\n",
       "       [-0.36719376, -0.66536045],\n",
       "       [-0.41521319, -0.66536045],\n",
       "       [-0.41999834, -0.66536045],\n",
       "       [-0.38549487, -0.55849953],\n",
       "       [-0.4272063 , -0.45163861],\n",
       "       [-0.4272063 , -0.34477769],\n",
       "       [ 1.16758105, -0.23791677],\n",
       "       [-0.34351985, -0.23791677],\n",
       "       [-0.33346095, -0.23791677],\n",
       "       [ 3.68608254, -0.13105585],\n",
       "       [-0.41864759, -0.13105585],\n",
       "       [-0.38549487, -0.02419493],\n",
       "       [-0.40593587,  0.08266599],\n",
       "       [-0.38759363,  0.08266599],\n",
       "       [-0.27904621,  0.29638783],\n",
       "       [-0.4232724 ,  0.29638783],\n",
       "       [-0.40446759,  0.29638783],\n",
       "       [-0.37063572,  0.40324875],\n",
       "       [-0.4083402 ,  0.51010967],\n",
       "       [-0.41152695,  0.72383151],\n",
       "       [-0.40387994,  0.72383151],\n",
       "       [-0.3424285 ,  0.83069243],\n",
       "       [-0.34016185,  0.83069243],\n",
       "       [-0.40270463,  0.93755335],\n",
       "       [ 0.4120306 ,  1.04441427],\n",
       "       [-0.42230277,  1.04441427],\n",
       "       [-0.41067989,  1.15127519],\n",
       "       [ 3.75324258,  1.15127519],\n",
       "       [ 0.09226486,  1.25813611],\n",
       "       [-0.0916697 ,  1.25813611],\n",
       "       [-0.3378952 ,  1.36499703],\n",
       "       [-0.3378952 ,  1.36499703],\n",
       "       [-0.3378952 ,  1.36499703],\n",
       "       [-0.3378952 ,  1.36499703],\n",
       "       [-0.39707998,  1.36499703],\n",
       "       [-0.42598398,  1.68557979],\n",
       "       [-0.38767758,  1.68557979]])"
      ]
     },
     "execution_count": 52,
     "metadata": {},
     "output_type": "execute_result"
    }
   ],
   "source": [
    "from sklearn.preprocessing import scale\n",
    "X_data_scale=scale(X_dec[['AMOUNT', 'DATE2']])\n",
    "X_data_scale"
   ]
  },
  {
   "cell_type": "code",
   "execution_count": 53,
   "metadata": {},
   "outputs": [],
   "source": [
    "from sklearn.preprocessing import StandardScaler\n",
    "slc= StandardScaler()"
   ]
  },
  {
   "cell_type": "code",
   "execution_count": 54,
   "metadata": {},
   "outputs": [
    {
     "data": {
      "text/plain": [
       "array([[-0.30993983, -1.52024781],\n",
       "       [-0.35275436, -1.52024781],\n",
       "       [-0.38658623, -1.52024781],\n",
       "       [-0.41571689, -1.52024781],\n",
       "       [-0.41319839, -1.52024781],\n",
       "       [-0.40304043, -1.52024781],\n",
       "       [ 3.77003259, -1.30652597],\n",
       "       [-0.40707843, -1.30652597],\n",
       "       [ 1.33548115, -1.09280413],\n",
       "       [-0.12441022, -1.09280413],\n",
       "       [ 1.2515311 , -1.09280413],\n",
       "       [ 0.4120306 , -1.09280413],\n",
       "       [-0.0916697 , -0.66536045],\n",
       "       [-0.41798354, -0.66536045],\n",
       "       [-0.15882974, -0.66536045],\n",
       "       [-0.40866509, -0.66536045],\n",
       "       [-0.36719376, -0.66536045],\n",
       "       [-0.41521319, -0.66536045],\n",
       "       [-0.41999834, -0.66536045],\n",
       "       [-0.38549487, -0.55849953],\n",
       "       [-0.4272063 , -0.45163861],\n",
       "       [-0.4272063 , -0.34477769],\n",
       "       [ 1.16758105, -0.23791677],\n",
       "       [-0.34351985, -0.23791677],\n",
       "       [-0.33346095, -0.23791677],\n",
       "       [ 3.68608254, -0.13105585],\n",
       "       [-0.41864759, -0.13105585],\n",
       "       [-0.38549487, -0.02419493],\n",
       "       [-0.40593587,  0.08266599],\n",
       "       [-0.38759363,  0.08266599],\n",
       "       [-0.27904621,  0.29638783],\n",
       "       [-0.4232724 ,  0.29638783],\n",
       "       [-0.40446759,  0.29638783],\n",
       "       [-0.37063572,  0.40324875],\n",
       "       [-0.4083402 ,  0.51010967],\n",
       "       [-0.41152695,  0.72383151],\n",
       "       [-0.40387994,  0.72383151],\n",
       "       [-0.3424285 ,  0.83069243],\n",
       "       [-0.34016185,  0.83069243],\n",
       "       [-0.40270463,  0.93755335],\n",
       "       [ 0.4120306 ,  1.04441427],\n",
       "       [-0.42230277,  1.04441427],\n",
       "       [-0.41067989,  1.15127519],\n",
       "       [ 3.75324258,  1.15127519],\n",
       "       [ 0.09226486,  1.25813611],\n",
       "       [-0.0916697 ,  1.25813611],\n",
       "       [-0.3378952 ,  1.36499703],\n",
       "       [-0.3378952 ,  1.36499703],\n",
       "       [-0.3378952 ,  1.36499703],\n",
       "       [-0.3378952 ,  1.36499703],\n",
       "       [-0.39707998,  1.36499703],\n",
       "       [-0.42598398,  1.68557979],\n",
       "       [-0.38767758,  1.68557979]])"
      ]
     },
     "execution_count": 54,
     "metadata": {},
     "output_type": "execute_result"
    }
   ],
   "source": [
    "X_data_std = slc.fit_transform(X_data_scale)\n",
    "X_data_std"
   ]
  },
  {
   "cell_type": "code",
   "execution_count": 55,
   "metadata": {},
   "outputs": [],
   "source": [
    "X_dec_train_std, X_dec_test_std, y_dec_train, y_dec_test = train_test_split(X_data_std, y_dec, test_size = .4, random_state=25)"
   ]
  },
  {
   "cell_type": "code",
   "execution_count": 57,
   "metadata": {},
   "outputs": [
    {
     "data": {
      "text/plain": [
       "XGBClassifier(base_score=0.5, booster='gbtree', colsample_bylevel=1,\n",
       "       colsample_bytree=0.95, gamma=0.1, learning_rate=0.1,\n",
       "       max_delta_step=0, max_depth=8, min_child_weight=6, missing=None,\n",
       "       n_estimators=1000, n_jobs=1, nthread=4, objective='binary:logistic',\n",
       "       random_state=0, reg_alpha=2, reg_lambda=1, scale_pos_weight=1,\n",
       "       seed=27, silent=True, subsample=0.9)"
      ]
     },
     "execution_count": 57,
     "metadata": {},
     "output_type": "execute_result"
    }
   ],
   "source": [
    "xgbc.fit(X_dec_train_std,y_dec_train)"
   ]
  },
  {
   "cell_type": "code",
   "execution_count": 2,
   "metadata": {},
   "outputs": [
    {
     "ename": "NameError",
     "evalue": "name 'xgbc' is not defined",
     "output_type": "error",
     "traceback": [
      "\u001b[1;31m---------------------------------------------------------------------------\u001b[0m",
      "\u001b[1;31mNameError\u001b[0m                                 Traceback (most recent call last)",
      "\u001b[1;32m<ipython-input-2-c9e12a7e5d76>\u001b[0m in \u001b[0;36m<module>\u001b[1;34m()\u001b[0m\n\u001b[1;32m----> 1\u001b[1;33m \u001b[0my_dec_pred\u001b[0m\u001b[1;33m=\u001b[0m\u001b[0mxgbc\u001b[0m\u001b[1;33m.\u001b[0m\u001b[0mpredict\u001b[0m\u001b[1;33m(\u001b[0m\u001b[0mX_dec_test_std\u001b[0m\u001b[1;33m)\u001b[0m\u001b[1;33m\u001b[0m\u001b[0m\n\u001b[0m",
      "\u001b[1;31mNameError\u001b[0m: name 'xgbc' is not defined"
     ]
    }
   ],
   "source": [
    "y_dec_pred=xgbc.predict(X_dec_test_std)"
   ]
  },
  {
   "cell_type": "code",
   "execution_count": 59,
   "metadata": {},
   "outputs": [
    {
     "name": "stdout",
     "output_type": "stream",
     "text": [
      "XGB Classification model accuracy(in %): 77.27272727272727\n"
     ]
    }
   ],
   "source": [
    "from sklearn import metrics \n",
    "print(\"XGB Classification model accuracy(in %):\", metrics.accuracy_score(y_dec_test, y_dec_pred)*100)"
   ]
  },
  {
   "cell_type": "code",
   "execution_count": null,
   "metadata": {},
   "outputs": [],
   "source": []
  }
 ],
 "metadata": {
  "kernelspec": {
   "display_name": "Python 3",
   "language": "python",
   "name": "python3"
  },
  "language_info": {
   "codemirror_mode": {
    "name": "ipython",
    "version": 3
   },
   "file_extension": ".py",
   "mimetype": "text/x-python",
   "name": "python",
   "nbconvert_exporter": "python",
   "pygments_lexer": "ipython3",
   "version": "3.6.5"
  }
 },
 "nbformat": 4,
 "nbformat_minor": 2
}
